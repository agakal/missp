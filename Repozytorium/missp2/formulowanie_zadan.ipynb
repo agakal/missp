{
 "cells": [
  {
   "cell_type": "markdown",
   "metadata": {},
   "source": [
    "W sklepie ze zdrową żywnością wytwarza się produkty dżem jabłkowy i mus jabłkowy. Wytworzenie jednostki produktu I wymaga zużycia 8 jabłek i 5 łyżek miodu, zaś jednostki musu - 2 jabłek i 5 łyżek miodu. Dostawy surowców w każdym dniu wynosza dla jabłek i miodu odpowiednio 40 i 25 jednostek. Dżem sprzedaje się po 12 zł a mus po 11 zł. Jabłko kosztuje 0.3 zł, łyżka miodu 0.2. \n",
    "\n",
    "Określ dzienną produkcję każdego produktu tak, aby otrzymać maksymalny zysk. Dla dwóch przypadków:\n",
    "\n",
    "- ( HURT) wielkość produkcji można wyrazić jako nieujemne liczby rzeczywiste ( np 1.2 kg dżemu)\n",
    "\n",
    "- (DETAL) wielkości produkcji mierzy się w jednostkach niepodzielnych ( 1 słoik dżemu). W tym przypadku do każdej wyprodukowanej jednostki trzeba doliczyć opakowanie za 0.5 zł\n"
   ]
  },
  {
   "cell_type": "markdown",
   "metadata": {},
   "source": [
    "## Rozwiązanie\n",
    "\n",
    "Słownie:\n",
    "\n",
    "Zysk = Zarobek na dzemie + zarobek na musie - koszt dzemu - koszt musu - dodatkowy koszt\n",
    "\n",
    "Zmienne decyzyjne:\n",
    "\n",
    "Ilość ( masa lub ilosc sztuk) wyprodukowanych dzemow i musuw\n",
    "\n",
    "Ograniczenia:\n",
    "\n",
    "Ograniczone dostawy\n",
    "\n",
    "Znamy ile kosztuje mus i drzem\n",
    "\n"
   ]
  },
  {
   "cell_type": "code",
   "execution_count": 2,
   "metadata": {},
   "outputs": [],
   "source": [
    "from pulp import *\n",
    "import pandas as pd"
   ]
  },
  {
   "cell_type": "code",
   "execution_count": 31,
   "metadata": {},
   "outputs": [],
   "source": [
    "#w pulp\n",
    "\n",
    "\n",
    "\n",
    "prob = LpProblem(\"Najlepsza produkcja HURT\",LpMaximize)\n",
    "\n",
    "# 2 zmienne\n",
    "x1=LpVariable(\"godzpartiiI\",0) # juz tutaj podajemy ograniczenie ze sa nieujemne\n",
    "x2=LpVariable(\"godzpartiiII\",0)\n",
    "zysk=LpVariable(\"zysk\",0)\n",
    "\n",
    "prob += x1*3000 + x2*2000 ,\"zysk\"\n",
    "prob += x1 <=4, \"F1\"\n",
    "prob += 2*x2<=12,\"F2\"\n",
    "prob += 3*x1+ 2*x2<=18, \"F3\"\n",
    "\n",
    "\n"
   ]
  },
  {
   "cell_type": "code",
   "execution_count": 32,
   "metadata": {
    "scrolled": true
   },
   "outputs": [
    {
     "name": "stdout",
     "output_type": "stream",
     "text": [
      "Status: Optimal\n",
      "godzpartiiI = 4.0\n",
      "Zysk wyniesie 18000.0 zł  \n",
      "godzpartiiII = 3.0\n",
      "Zysk wyniesie 18000.0 zł  \n"
     ]
    }
   ],
   "source": [
    "prob.solve()\n",
    "# The status of the solution is printed to the screen\n",
    "\n",
    "# Each of the variables is printed with it's resolved optimum value\n",
    "print(\"Status:\", LpStatus[prob.status])\n",
    "for v in prob.variables():\n",
    "    print(v.name, \"=\", v.varValue)\n",
    "    print(\"Zysk wyniesie {} zł  \".format( value(prob.objective)))\n"
   ]
  },
  {
   "cell_type": "code",
   "execution_count": 35,
   "metadata": {},
   "outputs": [
    {
     "name": "stdout",
     "output_type": "stream",
     "text": [
      "Status: Optimal\n",
      "godzpartiiI = 4.0\n",
      "godzpartiiII = 3.0\n",
      "Zysk wyniesie 18000.0 zł  \n"
     ]
    }
   ],
   "source": [
    "#w pulp\n",
    "\n",
    "\n",
    "prob = LpProblem(\"Optymalizacja godzin pracy fabryki\",LpMaximize)\n",
    "\n",
    "# 2 zmienne\n",
    "x1=LpVariable(\"godzpartiiI\",0) \n",
    "x2=LpVariable(\"godzpartiiII\",0)\n",
    "zysk=LpVariable(\"zysk\",0)\n",
    "\n",
    "prob += x1*3000 + x2*5000 ,\"zysk\"\n",
    "prob += x1 <=4, \"F1\"\n",
    "prob += 2*x2<=12,\"F2\"\n",
    "prob += 3*x1+ 2*x2<=18, \"F3\"\n",
    "prob.solve()\n",
    "\n",
    "print(\"Status:\", LpStatus[prob.status])\n",
    "for v in prob.variables():\n",
    "    print(v.name, \"=\", v.varValue)\n",
    "print(\"Zysk wyniesie {} zł  \".format( value(prob.objective)))\n"
   ]
  },
  {
   "cell_type": "code",
   "execution_count": 121,
   "metadata": {},
   "outputs": [],
   "source": [
    "#w pulp\n",
    "from __future__ import print_function\n",
    "from ipywidgets import interact, interactive, fixed, interact_manual, Layout, FloatSlider, IntSlider\n",
    "import ipywidgets as widgets\n",
    "import pandas as pd\n",
    "\n",
    "style = {'description_width': 'initial'}\n",
    "\n",
    "x1_slider = FloatSlider(min=0,max =22, value= 4, description=\"czas_wykonanai_parti_ drewnianych_okien\", style= style )\n",
    "x2_slider = FloatSlider(min=0,max = 30,value= 3, description=\"czas_wykonanai_parti_ aluminiowych_okien\", style= style )\n",
    "x3_slider = FloatSlider(min=0,max = 4,value= 3, description=\"czas_pracy_fabryki_1\", style= style )\n",
    "x4_slider = FloatSlider(min=0,max = 12,value= 2, description=\"czas_pracy_fabryki_2\", style= style )\n",
    "x5_slider = FloatSlider(min=0,max = 18,value= 4, description=\"czas_pracy_fabryki_3\", style= style )\n",
    "\n",
    "\n",
    "def hurt_produkcja(x1= 10,\n",
    "    x2=6,\n",
    "    x3=4,\n",
    "    x4=6,\n",
    "    x6=6,\n",
    "    x7=0):\n",
    "    \n",
    "    prob = LpProblem(\"Optymalizacja godzin pracy fabryki\",LpMaximize)\n",
    "\n",
    "    x1=LpVariable(\"godzpartiiI\",0) \n",
    "    x2=LpVariable(\"godzpartiiII\",0)\n",
    "    x3=LpVariable(\"czas_pracy_fabryki_1\",0)\n",
    "    x4=LpVariable(\"czas_pracy_fabryki_2\",0)\n",
    "    x5=LpVariable(\"czas_pracy_fabryki_3\",0)\n",
    "    x6=LpVariable(\"czas_pracy_fabryki_3_1\",0)\n",
    "    x7=LpVariable(\"czas_pracy_fabryki_3_2\",0)\n",
    "\n",
    "    prob += x1*3000 + x2*2000 ,\"zysk\"\n",
    "    prob += x1==x3+x6\n",
    "    prob += x2==x4+x7\n",
    "    prob += x3<=4, \"F1\"\n",
    "    prob += 2*x4<=12,\"F2\"\n",
    "    prob += 3*x6+ 2*x7<=18, \"F3\"\n",
    "\n",
    "    prob.solve()\n",
    "\n",
    "    print(\"Status:\", LpStatus[prob.status])\n",
    "    for v in prob.variables():\n",
    "        print(v.name, \"=\", v.varValue)\n",
    "    print(\"Zysk wyniesie {} zł  \".format( value(prob.objective)))\n"
   ]
  },
  {
   "cell_type": "code",
   "execution_count": 99,
   "metadata": {},
   "outputs": [
    {
     "name": "stdout",
     "output_type": "stream",
     "text": [
      "Status: Not Solved\n"
     ]
    },
    {
     "ename": "AttributeError",
     "evalue": "'NoneType' object has no attribute 'value'",
     "output_type": "error",
     "traceback": [
      "\u001b[1;31m---------------------------------------------------------------------------\u001b[0m",
      "\u001b[1;31mAttributeError\u001b[0m                            Traceback (most recent call last)",
      "\u001b[1;32m<ipython-input-99-a86b36638af2>\u001b[0m in \u001b[0;36m<module>\u001b[1;34m\u001b[0m\n\u001b[0;32m      2\u001b[0m \u001b[1;32mfor\u001b[0m \u001b[0mv\u001b[0m \u001b[1;32min\u001b[0m \u001b[0mprob\u001b[0m\u001b[1;33m.\u001b[0m\u001b[0mvariables\u001b[0m\u001b[1;33m(\u001b[0m\u001b[1;33m)\u001b[0m\u001b[1;33m:\u001b[0m\u001b[1;33m\u001b[0m\u001b[1;33m\u001b[0m\u001b[0m\n\u001b[0;32m      3\u001b[0m     \u001b[0mprint\u001b[0m\u001b[1;33m(\u001b[0m\u001b[0mv\u001b[0m\u001b[1;33m.\u001b[0m\u001b[0mname\u001b[0m\u001b[1;33m,\u001b[0m \u001b[1;34m\"=\"\u001b[0m\u001b[1;33m,\u001b[0m \u001b[0mv\u001b[0m\u001b[1;33m.\u001b[0m\u001b[0mvarValue\u001b[0m\u001b[1;33m)\u001b[0m\u001b[1;33m\u001b[0m\u001b[1;33m\u001b[0m\u001b[0m\n\u001b[1;32m----> 4\u001b[1;33m \u001b[0mprint\u001b[0m\u001b[1;33m(\u001b[0m\u001b[1;34m\"Zysk wyniesie {} zł  \"\u001b[0m\u001b[1;33m.\u001b[0m\u001b[0mformat\u001b[0m\u001b[1;33m(\u001b[0m \u001b[0mvalue\u001b[0m\u001b[1;33m(\u001b[0m\u001b[0mprob\u001b[0m\u001b[1;33m.\u001b[0m\u001b[0mobjective\u001b[0m\u001b[1;33m)\u001b[0m\u001b[1;33m)\u001b[0m\u001b[1;33m)\u001b[0m\u001b[1;33m\u001b[0m\u001b[1;33m\u001b[0m\u001b[0m\n\u001b[0m",
      "\u001b[1;32m~\\anaconda3\\lib\\site-packages\\pulp\\utilities.py\u001b[0m in \u001b[0;36mvalue\u001b[1;34m(x)\u001b[0m\n\u001b[0;32m     14\u001b[0m         \u001b[1;32mreturn\u001b[0m \u001b[0mx\u001b[0m\u001b[1;33m\u001b[0m\u001b[1;33m\u001b[0m\u001b[0m\n\u001b[0;32m     15\u001b[0m     \u001b[1;32melse\u001b[0m\u001b[1;33m:\u001b[0m\u001b[1;33m\u001b[0m\u001b[1;33m\u001b[0m\u001b[0m\n\u001b[1;32m---> 16\u001b[1;33m         \u001b[1;32mreturn\u001b[0m \u001b[0mx\u001b[0m\u001b[1;33m.\u001b[0m\u001b[0mvalue\u001b[0m\u001b[1;33m(\u001b[0m\u001b[1;33m)\u001b[0m\u001b[1;33m\u001b[0m\u001b[1;33m\u001b[0m\u001b[0m\n\u001b[0m\u001b[0;32m     17\u001b[0m \u001b[1;33m\u001b[0m\u001b[0m\n\u001b[0;32m     18\u001b[0m \u001b[1;33m\u001b[0m\u001b[0m\n",
      "\u001b[1;31mAttributeError\u001b[0m: 'NoneType' object has no attribute 'value'"
     ]
    }
   ],
   "source": [
    "print(\"Status:\", LpStatus[prob.status])\n",
    "for v in prob.variables():\n",
    "    print(v.name, \"=\", v.varValue)\n",
    "print(\"Zysk wyniesie {} zł  \".format( value(prob.objective)))"
   ]
  },
  {
   "cell_type": "code",
   "execution_count": 33,
   "metadata": {},
   "outputs": [],
   "source": [
    "?? interact"
   ]
  },
  {
   "cell_type": "code",
   "execution_count": 6,
   "metadata": {},
   "outputs": [
    {
     "data": {
      "application/vnd.jupyter.widget-view+json": {
       "model_id": "d6e021a8c25e4d018830f7aba91227a8",
       "version_major": 2,
       "version_minor": 0
      },
      "text/plain": [
       "interactive(children=(FloatSlider(value=0.3, description='cena_jablek_slider', max=1.0, style=SliderStyle(desc…"
      ]
     },
     "metadata": {},
     "output_type": "display_data"
    },
    {
     "data": {
      "text/plain": [
       "<function __main__.hurt_produkcja(cena_jablek=0.3, cena_miodu=0.2, zysk_z_dzemu=16, zysk_z_musu=11, zuzycie_jablek_dzem=8, zuzycie_jablek_mus=2, zuzycie_miodu_dzem=5, zuzycie_miodu_mus=5, maksimum_jablek=40, maksimum_miodu=25)>"
      ]
     },
     "execution_count": 6,
     "metadata": {},
     "output_type": "execute_result"
    }
   ],
   "source": [
    "from __future__ import print_function\n",
    "from ipywidgets import interact, interactive, fixed, interact_manual, Layout, FloatSlider, IntSlider\n",
    "import ipywidgets as widgets\n",
    "import pandas as pd\n",
    "\n",
    "style = {'description_width': 'initial'}\n",
    "\n",
    "\n",
    "cena_jablek_slider = FloatSlider(min=0,max = 1, value= 0.3, description=\"cena_jablek_slider\", style= style )\n",
    "cena_miodu_slider = FloatSlider(min=0,max = 1,value= 0.2, description=\"cena_miodu_slider\", style= style )\n",
    "zysk_z_dzemu_slider = FloatSlider(min=0,max = 50, value= 16, description=\"zysk_z_dzemu_slider\", style= style )\n",
    "zysk_z_musu_slider = FloatSlider(min=0,max = 50, value= 11, description=\"zysk_z_musu_slider\", style= style )\n",
    "zuzycie_jablek_dzem_slider = FloatSlider(min=0,max = 20,value= 8, description=\"zuzycie_jablek_dzem_slider\", style= style )\n",
    "zuzycie_jablek_mus_slider = FloatSlider(min=0,max = 20,value= 2, description=\"zuzycie_jablek_mus_slider\", style= style )\n",
    "zuzycie_miodu_dzem_slider = FloatSlider(min=0,max = 20,value= 5, description=\"zuzycie_miodu_dzem_slider\", style= style )\n",
    "zuzycie_miodu_mus_slider = FloatSlider(min=0,max = 20,value= 5, description=\"zuzycie_miodu_mus_slider\", style= style )\n",
    "maksimum_jablek_slider = IntSlider(min=0,max = 200,value= 40, description=\"maksimum_jablek_slider\", style= style )\n",
    "maksimum_miodu_slider = FloatSlider(min=0,max = 200,value= 25, description=\"maksimum_miodu_slider\", style= style )\n",
    "\n",
    "\n",
    "def hurt_produkcja(cena_jablek = 0.3,\n",
    "    cena_miodu = 0.2,\n",
    "    zysk_z_dzemu = 16,\n",
    "    zysk_z_musu = 11,\n",
    "    zuzycie_jablek_dzem = 8,\n",
    "    zuzycie_jablek_mus = 2,\n",
    "    zuzycie_miodu_dzem = 5,\n",
    "    zuzycie_miodu_mus = 5,\n",
    "    maksimum_jablek = 40,\n",
    "    maksimum_miodu = 25):\n",
    "    \n",
    "    prob = LpProblem(\"Najlepsza produkcja HURT\",LpMaximize)\n",
    "\n",
    "    # 2 zmienne\n",
    "    dzem=LpVariable(\"Dzem\",0) # juz tutaj podajemy ograniczenie ze sa nieujemne\n",
    "    mus=LpVariable(\"Mus\",0)\n",
    "    # pomocnicze zmienne\n",
    "    zuzycie_jablek =LpVariable(\"Jablka\",0)\n",
    "    zuzycie_miodu =LpVariable(\"Miod\",0)\n",
    "\n",
    "    prob += zysk_z_dzemu * dzem + zysk_z_musu * mus - cena_jablek * zuzycie_jablek - cena_miodu * zuzycie_miodu\n",
    "    prob += zuzycie_jablek_dzem * dzem + zuzycie_jablek_mus * mus == zuzycie_jablek, \"Zuzycie jablek\"\n",
    "    prob += zuzycie_miodu_dzem * dzem + zuzycie_miodu_mus * mus == zuzycie_miodu, \"Zuzycie miodu\"\n",
    "    prob += zuzycie_jablek <= maksimum_jablek, \"Maksimum jablek\"\n",
    "    prob += zuzycie_miodu <= maksimum_miodu, \"Maksimum miodu\"\n",
    "\n",
    "    \n",
    "    prob.solve()\n",
    "    # The status of the solution is printed to the screen\n",
    "    print(\"Status:\", LpStatus[prob.status])\n",
    "    # Each of the variables is printed with it's resolved optimum value\n",
    "    for v in prob.variables():\n",
    "        print(v.name, \"=\", v.varValue)\n",
    "    print(\"Zysk wyniesie {} zł  \".format( value(prob.objective)))\n",
    "    \n",
    "    shadows = [{'name':name, 'shadow price': c.pi, \"slack\": c.slack} for name, c in prob.constraints.items()]\n",
    "    print(\"*\"*10+\"Shadow Prices\"+\"*\"*10)\n",
    "    print(pd.DataFrame(shadows))\n",
    "    \n",
    "    \n",
    "interact(hurt_produkcja,cena_jablek = cena_jablek_slider,\n",
    "    cena_miodu =    cena_miodu_slider,\n",
    "    zysk_z_dzemu =    zysk_z_dzemu_slider,\n",
    "    zysk_z_musu =zysk_z_musu_slider,\n",
    "    zuzycie_jablek_dzem =zuzycie_jablek_dzem_slider,\n",
    "    zuzycie_jablek_mus =zuzycie_jablek_mus_slider,\n",
    "    zuzycie_miodu_dzem =zuzycie_miodu_dzem_slider,\n",
    "    zuzycie_miodu_mus =zuzycie_miodu_mus_slider,\n",
    "    maksimum_jablek =maksimum_jablek_slider,\n",
    "    maksimum_miodu =maksimum_miodu_slider)\n"
   ]
  },
  {
   "cell_type": "code",
   "execution_count": 101,
   "metadata": {},
   "outputs": [
    {
     "data": {
      "application/vnd.jupyter.widget-view+json": {
       "model_id": "588519369f714f5c8abe342e3be99530",
       "version_major": 2,
       "version_minor": 0
      },
      "text/plain": [
       "IntSlider(value=0, description='A too long description', style=SliderStyle(description_width='initial'))"
      ]
     },
     "metadata": {},
     "output_type": "display_data"
    }
   ],
   "source": [
    "from ipywidgets import IntSlider\n",
    "\n",
    "style = {'description_width': 'initial'}\n",
    "IntSlider(description='A too long description', style=style)"
   ]
  },
  {
   "cell_type": "code",
   "execution_count": 103,
   "metadata": {},
   "outputs": [
    {
     "data": {
      "application/vnd.jupyter.widget-view+json": {
       "model_id": "b6cd51e659b44d0caef00678ed66c529",
       "version_major": 2,
       "version_minor": 0
      },
      "text/plain": [
       "interactive(children=(FloatSlider(value=0.0, description='x', max=10.0, step=0.05), FloatSlider(value=5.0, des…"
      ]
     },
     "metadata": {},
     "output_type": "display_data"
    },
    {
     "data": {
      "text/plain": [
       "<function __main__.printer(x, y)>"
      ]
     },
     "execution_count": 103,
     "metadata": {},
     "output_type": "execute_result"
    }
   ],
   "source": [
    "\n",
    "x_widget = FloatSlider(min=0.0, max=10.0, step=0.05)\n",
    "y_widget = FloatSlider(min=0.5, max=10.0, step=0.05, value=5.0)\n",
    "\n",
    "def update_x_range(*args):\n",
    "    x_widget.max = 2.0 * y_widget.value\n",
    "y_widget.observe(update_x_range, 'value')\n",
    "\n",
    "def printer(x, y):\n",
    "    print(x, y)\n",
    "interact(printer,x=x_widget, y=y_widget)"
   ]
  },
  {
   "cell_type": "code",
   "execution_count": null,
   "metadata": {},
   "outputs": [],
   "source": []
  }
 ],
 "metadata": {
  "kernelspec": {
   "display_name": "Python 3",
   "language": "python",
   "name": "python3"
  },
  "language_info": {
   "codemirror_mode": {
    "name": "ipython",
    "version": 3
   },
   "file_extension": ".py",
   "mimetype": "text/x-python",
   "name": "python",
   "nbconvert_exporter": "python",
   "pygments_lexer": "ipython3",
   "version": "3.8.3"
  }
 },
 "nbformat": 4,
 "nbformat_minor": 2
}
