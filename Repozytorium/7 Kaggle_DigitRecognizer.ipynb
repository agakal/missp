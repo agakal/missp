{
  "nbformat": 4,
  "nbformat_minor": 0,
  "metadata": {
    "colab": {
      "name": "Kaggle DigitRecognizer.ipynb",
      "provenance": [],
      "collapsed_sections": []
    },
    "kernelspec": {
      "name": "python3",
      "display_name": "Python 3"
    }
  },
  "cells": [
    {
      "cell_type": "markdown",
      "metadata": {
        "id": "G5p5BWA-nCps"
      },
      "source": [
        "## Kaggle - Digit Recognizer\r\n",
        "\r\n",
        "\r\n",
        "> Blok z wcięciem W tym konkursie stworozny program miał za zadnaie rozpoznać odręcznie napisane cycfry od 0 do 9. Do tego celu wykorzystałam metodę głebokich sieci konwolucyjnych CNN.\r\n",
        "\r\n"
      ]
    },
    {
      "cell_type": "markdown",
      "metadata": {
        "id": "U9295rBp9aKI"
      },
      "source": [
        "Konfiguracja"
      ]
    },
    {
      "cell_type": "code",
      "metadata": {
        "id": "22MrmLC6d_Tv"
      },
      "source": [
        "!pip install kaggle"
      ],
      "execution_count": null,
      "outputs": []
    },
    {
      "cell_type": "code",
      "metadata": {
        "id": "DRzOUzYkeD23"
      },
      "source": [
        "from google.colab import files\r\n",
        "files.upload()"
      ],
      "execution_count": null,
      "outputs": []
    },
    {
      "cell_type": "code",
      "metadata": {
        "id": "UDxYW-ADeI4j"
      },
      "source": [
        "!mkdir -p ~/.kaggle\r\n",
        "!cp kaggle.json ~/.kaggle/\r\n",
        "!chmod 600 ~/.kaggle/kaggle.json"
      ],
      "execution_count": 21,
      "outputs": []
    },
    {
      "cell_type": "code",
      "metadata": {
        "id": "YT62--fdeMkt"
      },
      "source": [
        "!kaggle competitions download -c digit-recognizer"
      ],
      "execution_count": null,
      "outputs": []
    },
    {
      "cell_type": "code",
      "metadata": {
        "id": "ZoSfDx3QePVT"
      },
      "source": [
        "\r\n",
        "\r\n",
        "import numpy as np\r\n",
        "import pandas as pd \r\n",
        "import matplotlib.pyplot as plt\r\n",
        "import seaborn as sns\r\n",
        "from keras.layers.normalization import BatchNormalization\r\n",
        "\r\n",
        "from sklearn.metrics import confusion_matrix\r\n",
        "from keras.preprocessing.image import ImageDataGenerator\r\n",
        "from keras.utils.np_utils import to_categorical\r\n",
        "from sklearn.model_selection import train_test_split\r\n",
        "from keras.models import Sequential\r\n",
        "from keras.layers import Dense, Dropout, Flatten, Conv2D, MaxPool2D"
      ],
      "execution_count": 285,
      "outputs": []
    },
    {
      "cell_type": "markdown",
      "metadata": {
        "id": "yJ2z4mrw9mQD"
      },
      "source": [
        "Ładowanie baz danych"
      ]
    },
    {
      "cell_type": "code",
      "metadata": {
        "colab": {
          "base_uri": "https://localhost:8080/",
          "height": 244
        },
        "id": "Pbg74vrl9f_b",
        "outputId": "2b97e703-679f-497c-ac9f-416d8cdeed66"
      },
      "source": [
        "\r\n",
        "train = pd.read_csv(\"/content/train.csv.zip\")\r\n",
        "test = pd.read_csv(\"/content/test.csv.zip\")\r\n",
        "train.head()"
      ],
      "execution_count": 226,
      "outputs": [
        {
          "output_type": "execute_result",
          "data": {
            "text/html": [
              "<div>\n",
              "<style scoped>\n",
              "    .dataframe tbody tr th:only-of-type {\n",
              "        vertical-align: middle;\n",
              "    }\n",
              "\n",
              "    .dataframe tbody tr th {\n",
              "        vertical-align: top;\n",
              "    }\n",
              "\n",
              "    .dataframe thead th {\n",
              "        text-align: right;\n",
              "    }\n",
              "</style>\n",
              "<table border=\"1\" class=\"dataframe\">\n",
              "  <thead>\n",
              "    <tr style=\"text-align: right;\">\n",
              "      <th></th>\n",
              "      <th>label</th>\n",
              "      <th>pixel0</th>\n",
              "      <th>pixel1</th>\n",
              "      <th>pixel2</th>\n",
              "      <th>pixel3</th>\n",
              "      <th>pixel4</th>\n",
              "      <th>pixel5</th>\n",
              "      <th>pixel6</th>\n",
              "      <th>pixel7</th>\n",
              "      <th>pixel8</th>\n",
              "      <th>pixel9</th>\n",
              "      <th>pixel10</th>\n",
              "      <th>pixel11</th>\n",
              "      <th>pixel12</th>\n",
              "      <th>pixel13</th>\n",
              "      <th>pixel14</th>\n",
              "      <th>pixel15</th>\n",
              "      <th>pixel16</th>\n",
              "      <th>pixel17</th>\n",
              "      <th>pixel18</th>\n",
              "      <th>pixel19</th>\n",
              "      <th>pixel20</th>\n",
              "      <th>pixel21</th>\n",
              "      <th>pixel22</th>\n",
              "      <th>pixel23</th>\n",
              "      <th>pixel24</th>\n",
              "      <th>pixel25</th>\n",
              "      <th>pixel26</th>\n",
              "      <th>pixel27</th>\n",
              "      <th>pixel28</th>\n",
              "      <th>pixel29</th>\n",
              "      <th>pixel30</th>\n",
              "      <th>pixel31</th>\n",
              "      <th>pixel32</th>\n",
              "      <th>pixel33</th>\n",
              "      <th>pixel34</th>\n",
              "      <th>pixel35</th>\n",
              "      <th>pixel36</th>\n",
              "      <th>pixel37</th>\n",
              "      <th>pixel38</th>\n",
              "      <th>...</th>\n",
              "      <th>pixel744</th>\n",
              "      <th>pixel745</th>\n",
              "      <th>pixel746</th>\n",
              "      <th>pixel747</th>\n",
              "      <th>pixel748</th>\n",
              "      <th>pixel749</th>\n",
              "      <th>pixel750</th>\n",
              "      <th>pixel751</th>\n",
              "      <th>pixel752</th>\n",
              "      <th>pixel753</th>\n",
              "      <th>pixel754</th>\n",
              "      <th>pixel755</th>\n",
              "      <th>pixel756</th>\n",
              "      <th>pixel757</th>\n",
              "      <th>pixel758</th>\n",
              "      <th>pixel759</th>\n",
              "      <th>pixel760</th>\n",
              "      <th>pixel761</th>\n",
              "      <th>pixel762</th>\n",
              "      <th>pixel763</th>\n",
              "      <th>pixel764</th>\n",
              "      <th>pixel765</th>\n",
              "      <th>pixel766</th>\n",
              "      <th>pixel767</th>\n",
              "      <th>pixel768</th>\n",
              "      <th>pixel769</th>\n",
              "      <th>pixel770</th>\n",
              "      <th>pixel771</th>\n",
              "      <th>pixel772</th>\n",
              "      <th>pixel773</th>\n",
              "      <th>pixel774</th>\n",
              "      <th>pixel775</th>\n",
              "      <th>pixel776</th>\n",
              "      <th>pixel777</th>\n",
              "      <th>pixel778</th>\n",
              "      <th>pixel779</th>\n",
              "      <th>pixel780</th>\n",
              "      <th>pixel781</th>\n",
              "      <th>pixel782</th>\n",
              "      <th>pixel783</th>\n",
              "    </tr>\n",
              "  </thead>\n",
              "  <tbody>\n",
              "    <tr>\n",
              "      <th>0</th>\n",
              "      <td>1</td>\n",
              "      <td>0</td>\n",
              "      <td>0</td>\n",
              "      <td>0</td>\n",
              "      <td>0</td>\n",
              "      <td>0</td>\n",
              "      <td>0</td>\n",
              "      <td>0</td>\n",
              "      <td>0</td>\n",
              "      <td>0</td>\n",
              "      <td>0</td>\n",
              "      <td>0</td>\n",
              "      <td>0</td>\n",
              "      <td>0</td>\n",
              "      <td>0</td>\n",
              "      <td>0</td>\n",
              "      <td>0</td>\n",
              "      <td>0</td>\n",
              "      <td>0</td>\n",
              "      <td>0</td>\n",
              "      <td>0</td>\n",
              "      <td>0</td>\n",
              "      <td>0</td>\n",
              "      <td>0</td>\n",
              "      <td>0</td>\n",
              "      <td>0</td>\n",
              "      <td>0</td>\n",
              "      <td>0</td>\n",
              "      <td>0</td>\n",
              "      <td>0</td>\n",
              "      <td>0</td>\n",
              "      <td>0</td>\n",
              "      <td>0</td>\n",
              "      <td>0</td>\n",
              "      <td>0</td>\n",
              "      <td>0</td>\n",
              "      <td>0</td>\n",
              "      <td>0</td>\n",
              "      <td>0</td>\n",
              "      <td>0</td>\n",
              "      <td>...</td>\n",
              "      <td>0</td>\n",
              "      <td>0</td>\n",
              "      <td>0</td>\n",
              "      <td>0</td>\n",
              "      <td>0</td>\n",
              "      <td>0</td>\n",
              "      <td>0</td>\n",
              "      <td>0</td>\n",
              "      <td>0</td>\n",
              "      <td>0</td>\n",
              "      <td>0</td>\n",
              "      <td>0</td>\n",
              "      <td>0</td>\n",
              "      <td>0</td>\n",
              "      <td>0</td>\n",
              "      <td>0</td>\n",
              "      <td>0</td>\n",
              "      <td>0</td>\n",
              "      <td>0</td>\n",
              "      <td>0</td>\n",
              "      <td>0</td>\n",
              "      <td>0</td>\n",
              "      <td>0</td>\n",
              "      <td>0</td>\n",
              "      <td>0</td>\n",
              "      <td>0</td>\n",
              "      <td>0</td>\n",
              "      <td>0</td>\n",
              "      <td>0</td>\n",
              "      <td>0</td>\n",
              "      <td>0</td>\n",
              "      <td>0</td>\n",
              "      <td>0</td>\n",
              "      <td>0</td>\n",
              "      <td>0</td>\n",
              "      <td>0</td>\n",
              "      <td>0</td>\n",
              "      <td>0</td>\n",
              "      <td>0</td>\n",
              "      <td>0</td>\n",
              "    </tr>\n",
              "    <tr>\n",
              "      <th>1</th>\n",
              "      <td>0</td>\n",
              "      <td>0</td>\n",
              "      <td>0</td>\n",
              "      <td>0</td>\n",
              "      <td>0</td>\n",
              "      <td>0</td>\n",
              "      <td>0</td>\n",
              "      <td>0</td>\n",
              "      <td>0</td>\n",
              "      <td>0</td>\n",
              "      <td>0</td>\n",
              "      <td>0</td>\n",
              "      <td>0</td>\n",
              "      <td>0</td>\n",
              "      <td>0</td>\n",
              "      <td>0</td>\n",
              "      <td>0</td>\n",
              "      <td>0</td>\n",
              "      <td>0</td>\n",
              "      <td>0</td>\n",
              "      <td>0</td>\n",
              "      <td>0</td>\n",
              "      <td>0</td>\n",
              "      <td>0</td>\n",
              "      <td>0</td>\n",
              "      <td>0</td>\n",
              "      <td>0</td>\n",
              "      <td>0</td>\n",
              "      <td>0</td>\n",
              "      <td>0</td>\n",
              "      <td>0</td>\n",
              "      <td>0</td>\n",
              "      <td>0</td>\n",
              "      <td>0</td>\n",
              "      <td>0</td>\n",
              "      <td>0</td>\n",
              "      <td>0</td>\n",
              "      <td>0</td>\n",
              "      <td>0</td>\n",
              "      <td>0</td>\n",
              "      <td>...</td>\n",
              "      <td>0</td>\n",
              "      <td>0</td>\n",
              "      <td>0</td>\n",
              "      <td>0</td>\n",
              "      <td>0</td>\n",
              "      <td>0</td>\n",
              "      <td>0</td>\n",
              "      <td>0</td>\n",
              "      <td>0</td>\n",
              "      <td>0</td>\n",
              "      <td>0</td>\n",
              "      <td>0</td>\n",
              "      <td>0</td>\n",
              "      <td>0</td>\n",
              "      <td>0</td>\n",
              "      <td>0</td>\n",
              "      <td>0</td>\n",
              "      <td>0</td>\n",
              "      <td>0</td>\n",
              "      <td>0</td>\n",
              "      <td>0</td>\n",
              "      <td>0</td>\n",
              "      <td>0</td>\n",
              "      <td>0</td>\n",
              "      <td>0</td>\n",
              "      <td>0</td>\n",
              "      <td>0</td>\n",
              "      <td>0</td>\n",
              "      <td>0</td>\n",
              "      <td>0</td>\n",
              "      <td>0</td>\n",
              "      <td>0</td>\n",
              "      <td>0</td>\n",
              "      <td>0</td>\n",
              "      <td>0</td>\n",
              "      <td>0</td>\n",
              "      <td>0</td>\n",
              "      <td>0</td>\n",
              "      <td>0</td>\n",
              "      <td>0</td>\n",
              "    </tr>\n",
              "    <tr>\n",
              "      <th>2</th>\n",
              "      <td>1</td>\n",
              "      <td>0</td>\n",
              "      <td>0</td>\n",
              "      <td>0</td>\n",
              "      <td>0</td>\n",
              "      <td>0</td>\n",
              "      <td>0</td>\n",
              "      <td>0</td>\n",
              "      <td>0</td>\n",
              "      <td>0</td>\n",
              "      <td>0</td>\n",
              "      <td>0</td>\n",
              "      <td>0</td>\n",
              "      <td>0</td>\n",
              "      <td>0</td>\n",
              "      <td>0</td>\n",
              "      <td>0</td>\n",
              "      <td>0</td>\n",
              "      <td>0</td>\n",
              "      <td>0</td>\n",
              "      <td>0</td>\n",
              "      <td>0</td>\n",
              "      <td>0</td>\n",
              "      <td>0</td>\n",
              "      <td>0</td>\n",
              "      <td>0</td>\n",
              "      <td>0</td>\n",
              "      <td>0</td>\n",
              "      <td>0</td>\n",
              "      <td>0</td>\n",
              "      <td>0</td>\n",
              "      <td>0</td>\n",
              "      <td>0</td>\n",
              "      <td>0</td>\n",
              "      <td>0</td>\n",
              "      <td>0</td>\n",
              "      <td>0</td>\n",
              "      <td>0</td>\n",
              "      <td>0</td>\n",
              "      <td>0</td>\n",
              "      <td>...</td>\n",
              "      <td>0</td>\n",
              "      <td>0</td>\n",
              "      <td>0</td>\n",
              "      <td>0</td>\n",
              "      <td>0</td>\n",
              "      <td>0</td>\n",
              "      <td>0</td>\n",
              "      <td>0</td>\n",
              "      <td>0</td>\n",
              "      <td>0</td>\n",
              "      <td>0</td>\n",
              "      <td>0</td>\n",
              "      <td>0</td>\n",
              "      <td>0</td>\n",
              "      <td>0</td>\n",
              "      <td>0</td>\n",
              "      <td>0</td>\n",
              "      <td>0</td>\n",
              "      <td>0</td>\n",
              "      <td>0</td>\n",
              "      <td>0</td>\n",
              "      <td>0</td>\n",
              "      <td>0</td>\n",
              "      <td>0</td>\n",
              "      <td>0</td>\n",
              "      <td>0</td>\n",
              "      <td>0</td>\n",
              "      <td>0</td>\n",
              "      <td>0</td>\n",
              "      <td>0</td>\n",
              "      <td>0</td>\n",
              "      <td>0</td>\n",
              "      <td>0</td>\n",
              "      <td>0</td>\n",
              "      <td>0</td>\n",
              "      <td>0</td>\n",
              "      <td>0</td>\n",
              "      <td>0</td>\n",
              "      <td>0</td>\n",
              "      <td>0</td>\n",
              "    </tr>\n",
              "    <tr>\n",
              "      <th>3</th>\n",
              "      <td>4</td>\n",
              "      <td>0</td>\n",
              "      <td>0</td>\n",
              "      <td>0</td>\n",
              "      <td>0</td>\n",
              "      <td>0</td>\n",
              "      <td>0</td>\n",
              "      <td>0</td>\n",
              "      <td>0</td>\n",
              "      <td>0</td>\n",
              "      <td>0</td>\n",
              "      <td>0</td>\n",
              "      <td>0</td>\n",
              "      <td>0</td>\n",
              "      <td>0</td>\n",
              "      <td>0</td>\n",
              "      <td>0</td>\n",
              "      <td>0</td>\n",
              "      <td>0</td>\n",
              "      <td>0</td>\n",
              "      <td>0</td>\n",
              "      <td>0</td>\n",
              "      <td>0</td>\n",
              "      <td>0</td>\n",
              "      <td>0</td>\n",
              "      <td>0</td>\n",
              "      <td>0</td>\n",
              "      <td>0</td>\n",
              "      <td>0</td>\n",
              "      <td>0</td>\n",
              "      <td>0</td>\n",
              "      <td>0</td>\n",
              "      <td>0</td>\n",
              "      <td>0</td>\n",
              "      <td>0</td>\n",
              "      <td>0</td>\n",
              "      <td>0</td>\n",
              "      <td>0</td>\n",
              "      <td>0</td>\n",
              "      <td>0</td>\n",
              "      <td>...</td>\n",
              "      <td>0</td>\n",
              "      <td>0</td>\n",
              "      <td>0</td>\n",
              "      <td>0</td>\n",
              "      <td>0</td>\n",
              "      <td>0</td>\n",
              "      <td>0</td>\n",
              "      <td>0</td>\n",
              "      <td>0</td>\n",
              "      <td>0</td>\n",
              "      <td>0</td>\n",
              "      <td>0</td>\n",
              "      <td>0</td>\n",
              "      <td>0</td>\n",
              "      <td>0</td>\n",
              "      <td>0</td>\n",
              "      <td>0</td>\n",
              "      <td>0</td>\n",
              "      <td>0</td>\n",
              "      <td>0</td>\n",
              "      <td>0</td>\n",
              "      <td>0</td>\n",
              "      <td>0</td>\n",
              "      <td>0</td>\n",
              "      <td>0</td>\n",
              "      <td>0</td>\n",
              "      <td>0</td>\n",
              "      <td>0</td>\n",
              "      <td>0</td>\n",
              "      <td>0</td>\n",
              "      <td>0</td>\n",
              "      <td>0</td>\n",
              "      <td>0</td>\n",
              "      <td>0</td>\n",
              "      <td>0</td>\n",
              "      <td>0</td>\n",
              "      <td>0</td>\n",
              "      <td>0</td>\n",
              "      <td>0</td>\n",
              "      <td>0</td>\n",
              "    </tr>\n",
              "    <tr>\n",
              "      <th>4</th>\n",
              "      <td>0</td>\n",
              "      <td>0</td>\n",
              "      <td>0</td>\n",
              "      <td>0</td>\n",
              "      <td>0</td>\n",
              "      <td>0</td>\n",
              "      <td>0</td>\n",
              "      <td>0</td>\n",
              "      <td>0</td>\n",
              "      <td>0</td>\n",
              "      <td>0</td>\n",
              "      <td>0</td>\n",
              "      <td>0</td>\n",
              "      <td>0</td>\n",
              "      <td>0</td>\n",
              "      <td>0</td>\n",
              "      <td>0</td>\n",
              "      <td>0</td>\n",
              "      <td>0</td>\n",
              "      <td>0</td>\n",
              "      <td>0</td>\n",
              "      <td>0</td>\n",
              "      <td>0</td>\n",
              "      <td>0</td>\n",
              "      <td>0</td>\n",
              "      <td>0</td>\n",
              "      <td>0</td>\n",
              "      <td>0</td>\n",
              "      <td>0</td>\n",
              "      <td>0</td>\n",
              "      <td>0</td>\n",
              "      <td>0</td>\n",
              "      <td>0</td>\n",
              "      <td>0</td>\n",
              "      <td>0</td>\n",
              "      <td>0</td>\n",
              "      <td>0</td>\n",
              "      <td>0</td>\n",
              "      <td>0</td>\n",
              "      <td>0</td>\n",
              "      <td>...</td>\n",
              "      <td>0</td>\n",
              "      <td>0</td>\n",
              "      <td>0</td>\n",
              "      <td>0</td>\n",
              "      <td>0</td>\n",
              "      <td>0</td>\n",
              "      <td>0</td>\n",
              "      <td>0</td>\n",
              "      <td>0</td>\n",
              "      <td>0</td>\n",
              "      <td>0</td>\n",
              "      <td>0</td>\n",
              "      <td>0</td>\n",
              "      <td>0</td>\n",
              "      <td>0</td>\n",
              "      <td>0</td>\n",
              "      <td>0</td>\n",
              "      <td>0</td>\n",
              "      <td>0</td>\n",
              "      <td>0</td>\n",
              "      <td>0</td>\n",
              "      <td>0</td>\n",
              "      <td>0</td>\n",
              "      <td>0</td>\n",
              "      <td>0</td>\n",
              "      <td>0</td>\n",
              "      <td>0</td>\n",
              "      <td>0</td>\n",
              "      <td>0</td>\n",
              "      <td>0</td>\n",
              "      <td>0</td>\n",
              "      <td>0</td>\n",
              "      <td>0</td>\n",
              "      <td>0</td>\n",
              "      <td>0</td>\n",
              "      <td>0</td>\n",
              "      <td>0</td>\n",
              "      <td>0</td>\n",
              "      <td>0</td>\n",
              "      <td>0</td>\n",
              "    </tr>\n",
              "  </tbody>\n",
              "</table>\n",
              "<p>5 rows × 785 columns</p>\n",
              "</div>"
            ],
            "text/plain": [
              "   label  pixel0  pixel1  pixel2  ...  pixel780  pixel781  pixel782  pixel783\n",
              "0      1       0       0       0  ...         0         0         0         0\n",
              "1      0       0       0       0  ...         0         0         0         0\n",
              "2      1       0       0       0  ...         0         0         0         0\n",
              "3      4       0       0       0  ...         0         0         0         0\n",
              "4      0       0       0       0  ...         0         0         0         0\n",
              "\n",
              "[5 rows x 785 columns]"
            ]
          },
          "metadata": {
            "tags": []
          },
          "execution_count": 226
        }
      ]
    },
    {
      "cell_type": "markdown",
      "metadata": {
        "id": "5HPBV-YVoTK1"
      },
      "source": [
        "Sprawdzam czy występują dane typu NaN"
      ]
    },
    {
      "cell_type": "code",
      "metadata": {
        "colab": {
          "base_uri": "https://localhost:8080/"
        },
        "id": "02XjSqcWfG1Z",
        "outputId": "fe6e25c8-ed59-430c-84c7-e141086dc34b"
      },
      "source": [
        "test.isnull().sum().describe()"
      ],
      "execution_count": 227,
      "outputs": [
        {
          "output_type": "execute_result",
          "data": {
            "text/plain": [
              "count    784.0\n",
              "mean       0.0\n",
              "std        0.0\n",
              "min        0.0\n",
              "25%        0.0\n",
              "50%        0.0\n",
              "75%        0.0\n",
              "max        0.0\n",
              "dtype: float64"
            ]
          },
          "metadata": {
            "tags": []
          },
          "execution_count": 227
        }
      ]
    },
    {
      "cell_type": "code",
      "metadata": {
        "colab": {
          "base_uri": "https://localhost:8080/"
        },
        "id": "Rs_AIkk6g65q",
        "outputId": "a5416230-5021-4f48-ce72-01f9ee339723"
      },
      "source": [
        "train.isnull().sum().describe()\r\n"
      ],
      "execution_count": 228,
      "outputs": [
        {
          "output_type": "execute_result",
          "data": {
            "text/plain": [
              "count    785.0\n",
              "mean       0.0\n",
              "std        0.0\n",
              "min        0.0\n",
              "25%        0.0\n",
              "50%        0.0\n",
              "75%        0.0\n",
              "max        0.0\n",
              "dtype: float64"
            ]
          },
          "metadata": {
            "tags": []
          },
          "execution_count": 228
        }
      ]
    },
    {
      "cell_type": "markdown",
      "metadata": {
        "id": "QzUQSdeXqPOg"
      },
      "source": [
        "Sprawdzam liczbe pikseli i liczbe obrazków przypisanych dla danych testowych i danych do uczenia"
      ]
    },
    {
      "cell_type": "code",
      "metadata": {
        "colab": {
          "base_uri": "https://localhost:8080/"
        },
        "id": "O2YzcQ21lq6a",
        "outputId": "eca3d32e-54c2-486a-eec6-c21254fc9e2b"
      },
      "source": [
        "print(\"Dane do uczenia\")\r\n",
        "print(\"Liczba pikseli każdego obrazka:\",(train.shape[1]))\r\n",
        "print(\"Liczba obrazków :\",train.shape[0])"
      ],
      "execution_count": 229,
      "outputs": [
        {
          "output_type": "stream",
          "text": [
            "Dane do uczenia\n",
            "Liczba pikseli każdego obrazka: 785\n",
            "Liczba obrazków : 42000\n"
          ],
          "name": "stdout"
        }
      ]
    },
    {
      "cell_type": "code",
      "metadata": {
        "colab": {
          "base_uri": "https://localhost:8080/"
        },
        "id": "r_js1_paqenu",
        "outputId": "73719103-c761-45af-e62d-d13bbdbf17bc"
      },
      "source": [
        "print(\"Dane do testowania\")\r\n",
        "print(\"Liczba pikseli każdego obrazka:\",(test.shape[1]))\r\n",
        "print(\"Liczba obrazków :\",test.shape[0])"
      ],
      "execution_count": 230,
      "outputs": [
        {
          "output_type": "stream",
          "text": [
            "Dane do testowania\n",
            "Liczba pikseli każdego obrazka: 784\n",
            "Liczba obrazków : 28000\n"
          ],
          "name": "stdout"
        }
      ]
    },
    {
      "cell_type": "markdown",
      "metadata": {
        "id": "BAdQXnMuql3s"
      },
      "source": [
        "Stosunek pakietu danych do uczenia a testowania wynosi 6:4"
      ]
    },
    {
      "cell_type": "markdown",
      "metadata": {
        "id": "XQuvNcwJlHyL"
      },
      "source": [
        "Oznaczam dane w tabeli:\r\n",
        "- Y jako etykieta dla numeru kolejnych obrazków do nauki\r\n",
        "- X jako etykieta dla kolejnych pikseli obrazka\r\n",
        "\r\n",
        "Pomijam kolumnę label i używam do tego .drop oraz tworzę nowy pakiet danych (x,y) "
      ]
    },
    {
      "cell_type": "code",
      "metadata": {
        "id": "DK7NJHgIp9bN"
      },
      "source": [
        "X = train.drop(['label'], 1).values\r\n",
        "Y = train['label'].values\r\n",
        "\r\n",
        "test_x = test.values"
      ],
      "execution_count": 301,
      "outputs": []
    },
    {
      "cell_type": "markdown",
      "metadata": {
        "id": "boiaW3T8tXbw"
      },
      "source": [
        "Normalizuje obrazki do skali szarości w zakresie od 0 do 255, aby ułatwić rozpoznawanie kształtu "
      ]
    },
    {
      "cell_type": "code",
      "metadata": {
        "id": "YM1sl-0etskJ"
      },
      "source": [
        "X = X / 255.0\r\n",
        "test_x = test_x / 255.0"
      ],
      "execution_count": 302,
      "outputs": []
    },
    {
      "cell_type": "markdown",
      "metadata": {
        "id": "xdyNe7QJwEqL"
      },
      "source": [
        "Następnie zmieniam wymiary obrazków przy użyciu funkcji z biblioteki numpy - reshape, na 28x28 pikseli oraz skale szarości (kanał = 1)"
      ]
    },
    {
      "cell_type": "code",
      "metadata": {
        "id": "BSG01osLwE2l"
      },
      "source": [
        "X = X.reshape(-1,28,28,1)\r\n",
        "test_x = test_x.reshape(-1,28,28,1)"
      ],
      "execution_count": 303,
      "outputs": []
    },
    {
      "cell_type": "markdown",
      "metadata": {
        "id": "KVgHE7zdwsJ7"
      },
      "source": [
        "Zamienione zostają następnie wartości y w \"one-hot\" wektory (czyli przekształcone na kod 1 z n). Ze względu na jednoznaczność wektorów, taka zamiana przyspiesza proces odczytu i identyfikacji danych."
      ]
    },
    {
      "cell_type": "code",
      "metadata": {
        "colab": {
          "base_uri": "https://localhost:8080/"
        },
        "id": "Y0MPMaH2603f",
        "outputId": "d9f8d382-ede4-47ff-e420-5bf45812213f"
      },
      "source": [
        "\r\n",
        "Y = to_categorical(Y, num_classes = 10)\r\n",
        "print(f\"Label size {Y.shape}\")\r\n"
      ],
      "execution_count": 304,
      "outputs": [
        {
          "output_type": "stream",
          "text": [
            "Label size (42000, 10)\n"
          ],
          "name": "stdout"
        }
      ]
    },
    {
      "cell_type": "markdown",
      "metadata": {
        "id": "nhJFIkBX7mOZ"
      },
      "source": [
        "Dodatkowo, pakiety danych do uczenia i testowania zostają podzielone, aby poprawić rozkład stosunek pakietów (obecnie wynosi 6:4). Zazwyczaj przyjmuje się, aby zestaw danych do uczenia był co najmiej 80% dostępnej puli danych."
      ]
    },
    {
      "cell_type": "code",
      "metadata": {
        "colab": {
          "base_uri": "https://localhost:8080/"
        },
        "id": "brUu2cIx8qZW",
        "outputId": "49b2a3cc-1a7d-48b0-e553-29abe1656845"
      },
      "source": [
        "\r\n",
        "random_seed = 2\r\n",
        "X_train, X_test, y_train, y_test = train_test_split(X, Y, test_size=0.1, random_state=random_seed)\r\n",
        "print(\"Po podziale\")\r\n",
        "X_train.shape, X_test.shape, y_train.shape, y_test.shape"
      ],
      "execution_count": 305,
      "outputs": [
        {
          "output_type": "stream",
          "text": [
            "Po podziale\n"
          ],
          "name": "stdout"
        },
        {
          "output_type": "execute_result",
          "data": {
            "text/plain": [
              "((37800, 28, 28, 1), (4200, 28, 28, 1), (37800, 10), (4200, 10))"
            ]
          },
          "metadata": {
            "tags": []
          },
          "execution_count": 305
        }
      ]
    },
    {
      "cell_type": "markdown",
      "metadata": {
        "id": "3l8GfTsp9xvH"
      },
      "source": [
        "**Wizualizacja danych**"
      ]
    },
    {
      "cell_type": "code",
      "metadata": {
        "id": "rRvS7K8494rg"
      },
      "source": [
        "Xtrain = X_train.reshape(X_train.shape[0], 28, 28)"
      ],
      "execution_count": 306,
      "outputs": []
    },
    {
      "cell_type": "markdown",
      "metadata": {
        "id": "OQ7Hj3pjAGcY"
      },
      "source": [
        "Funkcja shape pozwala na wyznaczenie wymiarów tablicy, a reshape na zmnaianę wymiarów tablicy bez zmiany jej zawartości."
      ]
    },
    {
      "cell_type": "code",
      "metadata": {
        "colab": {
          "base_uri": "https://localhost:8080/",
          "height": 160
        },
        "id": "qOuVP-REAJPz",
        "outputId": "1f98a373-cc3d-4064-ca26-403e113d2403"
      },
      "source": [
        "fig, osie = plt.subplots(1, 5, figsize=(10, 10))\r\n",
        "for i, c in enumerate(osie.flat):\r\n",
        "    c.imshow(Xtrain[i], cmap='binary')\r\n",
        "    cyfra = y_train[i].argmax()\r\n",
        "    c.set(title = f\"Jest to {cyfra}\");"
      ],
      "execution_count": 307,
      "outputs": [
        {
          "output_type": "display_data",
          "data": {
            "image/png": "[encoded data removed]",
            "text/plain": [
              "<Figure size 720x720 with 5 Axes>"
            ]
          },
          "metadata": {
            "tags": [],
            "needs_background": "light"
          }
        }
      ]
    },
    {
      "cell_type": "markdown",
      "metadata": {
        "id": "HtROrOuSB6JH"
      },
      "source": [
        "**Metoda Głębokich Sieci Konwolucyjnych CNN**\r\n",
        "\r\n",
        "To sieci, które potrafią stopniowo filtrować różne części danych i odrzucać nieodpwoiednie cechy, a wysotrzać ważne w procesie dyskryminacji "
      ]
    },
    {
      "cell_type": "markdown",
      "metadata": {
        "id": "wsF9CHnKOAVU"
      },
      "source": [
        "Poniższy model składa się z 3 warstw. Pierwsze dwie (wartswy konowlucyjne) składają się z filtrów o określonej szerokości i wysokości. Każdy z filtrów analizuje określoną część obrazu, a wymiar tej części jest określony przez wspomnianą szerokość i wsyokość ( w kodzie - kernel size ). Warstwa łącząca jest tworzona przy pomocy funkcji MaxPool2D, która służy do progresywnej redukcji rozmiaru przestrzennego przez co do zredukowania ilości cech.\r\n",
        "Funkcja 'relu' powoduje,że sieć nie jest liniowa.\r\n",
        "Ostatnia warstwa z funkcją 'Flatten' konwertuje końcową mapę cech w pojedynczy, jednowymiarowy wektor."
      ]
    },
    {
      "cell_type": "code",
      "metadata": {
        "id": "qKJ4i4cWDFzB"
      },
      "source": [
        "\r\n",
        "model = Sequential()\r\n",
        "model.add(Conv2D(filters=64, kernel_size = (3,3), activation=\"relu\", input_shape=(28,28,1)))\r\n",
        "model.add(Conv2D(filters=64, kernel_size = (3,3), activation=\"relu\"))\r\n",
        "\r\n",
        "model.add(MaxPooling2D(pool_size=(2,2)))\r\n",
        "model.add(BatchNormalization())\r\n",
        "model.add(Conv2D(filters=128, kernel_size = (3,3), activation=\"relu\"))\r\n",
        "model.add(Conv2D(filters=128, kernel_size = (3,3), activation=\"relu\"))\r\n",
        "\r\n",
        "model.add(MaxPooling2D(pool_size=(2,2)))\r\n",
        "model.add(BatchNormalization())    \r\n",
        "model.add(Conv2D(filters=256, kernel_size = (3,3), activation=\"relu\"))\r\n",
        "    \r\n",
        "model.add(MaxPooling2D(pool_size=(2,2)))\r\n",
        "    \r\n",
        "model.add(Flatten())\r\n",
        "model.add(BatchNormalization())\r\n",
        "model.add(Dense(512,activation=\"relu\"))\r\n",
        "    \r\n",
        "model.add(Dense(10,activation=\"softmax\"))\r\n",
        "    \r\n",
        "model.compile(loss=\"categorical_crossentropy\", optimizer=\"adam\", metrics=[\"accuracy\"])"
      ],
      "execution_count": 308,
      "outputs": []
    },
    {
      "cell_type": "markdown",
      "metadata": {
        "id": "k6i74b3nRzK0"
      },
      "source": [
        "Do kompilacji modelu wykorzystałam optymalizator ADAM (Adaptive Moment Estimation)."
      ]
    },
    {
      "cell_type": "code",
      "metadata": {
        "id": "cr8FwCP4DSKT"
      },
      "source": [
        "model.compile(optimizer='adam', loss='categorical_crossentropy', metrics=['accuracy'])"
      ],
      "execution_count": 309,
      "outputs": []
    },
    {
      "cell_type": "markdown",
      "metadata": {
        "id": "q7tpZNS5SU-e"
      },
      "source": [
        "Proces uczenia wywołuje metodą fit, która przyjmuje dwa podstawowe parametry (poza zbiorem danych i etykiet): batch_size (liczbę próbek) i epochs (epoki)."
      ]
    },
    {
      "cell_type": "code",
      "metadata": {
        "colab": {
          "base_uri": "https://localhost:8080/"
        },
        "id": "WO7HobJ0HINA",
        "outputId": "1b4dce8a-fab1-4d66-e27c-ac2401df1560"
      },
      "source": [
        "history=model.fit(X,Y,batch_size=8,epochs=4,validation_split=.2)"
      ],
      "execution_count": 312,
      "outputs": [
        {
          "output_type": "stream",
          "text": [
            "Epoch 1/4\n",
            "4200/4200 [==============================] - 301s 71ms/step - loss: 0.1875 - accuracy: 0.9463 - val_loss: 0.0929 - val_accuracy: 0.9787\n",
            "Epoch 2/4\n",
            "4200/4200 [==============================] - 299s 71ms/step - loss: 0.0983 - accuracy: 0.9722 - val_loss: 0.0444 - val_accuracy: 0.9885\n",
            "Epoch 3/4\n",
            "4200/4200 [==============================] - 300s 71ms/step - loss: 0.0733 - accuracy: 0.9785 - val_loss: 0.0518 - val_accuracy: 0.9837\n",
            "Epoch 4/4\n",
            "4200/4200 [==============================] - 299s 71ms/step - loss: 0.0612 - accuracy: 0.9826 - val_loss: 0.0506 - val_accuracy: 0.9883\n"
          ],
          "name": "stdout"
        }
      ]
    },
    {
      "cell_type": "markdown",
      "metadata": {
        "id": "l7Mbw3mejLnG"
      },
      "source": [
        "Otzrymane dane w tym - błąd uczenia, błąd walidacji, wktórym zostały użyte dane testowe. \r\n",
        "\r\n",
        "---\r\n",
        "\r\n"
      ]
    },
    {
      "cell_type": "code",
      "metadata": {
        "colab": {
          "base_uri": "https://localhost:8080/",
          "height": 511
        },
        "id": "1wWsvE0XUbhb",
        "outputId": "6643ca83-8f23-4f9f-91b9-6be9983028c0"
      },
      "source": [
        "\r\n",
        "fig, oś = plt.subplots(2,1, figsize=(18, 10))\r\n",
        "oś[0].plot(history.history['loss'], color='b', label=\"Błąd uczenia\")\r\n",
        "oś[0].plot(history.history['val_loss'], color='r', label=\"Błąd walidacyjny\",axes =oś[0])\r\n",
        "legend = oś[0].legend(loc='best', shadow=True)\r\n",
        "\r\n",
        "oś[1].plot(history.history['accuracy'], color='b', label=\"Poprawność w przypadku uczenia\")\r\n",
        "oś[1].plot(history.history['val_accuracy'], color='r',label=\"Poprawność w przypadku walidacji\")\r\n",
        "legend = oś[1].legend(loc='best', shadow=True)"
      ],
      "execution_count": 314,
      "outputs": [
        {
          "output_type": "display_data",
          "data": {
            "image/png": "[encoded data removed]",
            "text/plain": [
              "<Figure size 1296x720 with 2 Axes>"
            ]
          },
          "metadata": {
            "tags": [],
            "needs_background": "light"
          }
        }
      ]
    },
    {
      "cell_type": "markdown",
      "metadata": {
        "id": "2ofP8LWJDvi0"
      },
      "source": [
        "Dla powyższego procesu uczenia otrzymałam poprawność na poziomie 0.97. Należałoby powtórzyć uczenie dla wiekszej liczby epok."
      ]
    },
    {
      "cell_type": "code",
      "metadata": {
        "id": "fFva6K8Jqm79"
      },
      "source": [
        "y_prze = model.predict(test_x)\r\n",
        "X_test__ = test_x.reshape(test_x.shape[0], 28, 28)\r\n"
      ],
      "execution_count": 329,
      "outputs": []
    },
    {
      "cell_type": "code",
      "metadata": {
        "colab": {
          "base_uri": "https://localhost:8080/",
          "height": 879
        },
        "id": "jR8MsGBnGvNk",
        "outputId": "b084ebf2-5867-4b0b-ccda-73f5edd2bd3e"
      },
      "source": [
        "fig, axis = plt.subplots(5, 5, figsize=(15,15))\r\n",
        "for i, ax in enumerate(axis.flat):\r\n",
        "    ax.imshow(X_test__[i], cmap='binary')\r\n",
        "    ax.set(title = f\"Odczytano {y_prze[i].argmax()}\")"
      ],
      "execution_count": 330,
      "outputs": [
        {
          "output_type": "display_data",
          "data": {
            "image/png": "[encoded data removed]",
            "text/plain": [
              "<Figure size 1080x1080 with 25 Axes>"
            ]
          },
          "metadata": {
            "tags": [],
            "needs_background": "light"
          }
        }
      ]
    },
    {
      "cell_type": "markdown",
      "metadata": {
        "id": "tDN2Ao1cG66h"
      },
      "source": [
        "Z powyższch grafik widać,że w większości przypadków program dobrze odczytuje cyfry. Nie radzi sobie z odczytywaniem 0. Dla zwiększenia poprawności odczytu należałoby wykonać uczenie dla większej liczby epok oraz z uczeniem dla bazy danych, w której obrazki są np. obrócone."
      ]
    },
    {
      "cell_type": "code",
      "metadata": {
        "id": "j-cGyu82HaV3"
      },
      "source": [
        ""
      ],
      "execution_count": null,
      "outputs": []
    }
  ]
}